{
  "nbformat": 4,
  "nbformat_minor": 0,
  "metadata": {
    "colab": {
      "name": "Escolas Pyspark.ipynb",
      "provenance": [],
      "collapsed_sections": [],
      "include_colab_link": true
    },
    "kernelspec": {
      "name": "python3",
      "display_name": "Python 3"
    },
    "language_info": {
      "name": "python"
    }
  },
  "cells": [
    {
      "cell_type": "markdown",
      "metadata": {
        "id": "view-in-github",
        "colab_type": "text"
      },
      "source": [
        "<a href=\"https://colab.research.google.com/github/luannapm/Projeto-SoulCode/blob/main/Escolas_Pyspark.ipynb\" target=\"_parent\"><img src=\"https://colab.research.google.com/assets/colab-badge.svg\" alt=\"Open In Colab\"/></a>"
      ]
    },
    {
      "cell_type": "markdown",
      "metadata": {
        "id": "k2CqNqsMtu_g"
      },
      "source": [
        "#PYSPARK\n",
        "\n",
        "---\n",
        "\n"
      ]
    },
    {
      "cell_type": "code",
      "metadata": {
        "colab": {
          "base_uri": "https://localhost:8080/"
        },
        "id": "v8BeOzuV0MNf",
        "outputId": "5cca551b-e324-4179-df23-d21bbe67048d"
      },
      "source": [
        "from google.colab import drive\n",
        "drive.mount('/content/drive')"
      ],
      "execution_count": null,
      "outputs": [
        {
          "output_type": "stream",
          "name": "stdout",
          "text": [
            "Mounted at /content/drive\n"
          ]
        }
      ]
    },
    {
      "cell_type": "markdown",
      "metadata": {
        "id": "5bSIPX-C4_yk"
      },
      "source": [
        "###Instalação dos pacotes"
      ]
    },
    {
      "cell_type": "code",
      "metadata": {
        "id": "5mUIMjgzhRjP",
        "colab": {
          "base_uri": "https://localhost:8080/"
        },
        "outputId": "dbabb29b-8c08-43cb-a341-bef79e1f675f"
      },
      "source": [
        "pip install pyspark"
      ],
      "execution_count": null,
      "outputs": [
        {
          "output_type": "stream",
          "name": "stdout",
          "text": [
            "Collecting pyspark\n",
            "  Downloading pyspark-3.2.0.tar.gz (281.3 MB)\n",
            "\u001b[K     |████████████████████████████████| 281.3 MB 36 kB/s \n",
            "\u001b[?25hCollecting py4j==0.10.9.2\n",
            "  Downloading py4j-0.10.9.2-py2.py3-none-any.whl (198 kB)\n",
            "\u001b[K     |████████████████████████████████| 198 kB 13.9 MB/s \n",
            "\u001b[?25hBuilding wheels for collected packages: pyspark\n",
            "  Building wheel for pyspark (setup.py) ... \u001b[?25l\u001b[?25hdone\n",
            "  Created wheel for pyspark: filename=pyspark-3.2.0-py2.py3-none-any.whl size=281805912 sha256=02ff54070ed35513cb6c53e81d0df8a7d94fb4f56306bd0df493bd8900eeeaf9\n",
            "  Stored in directory: /root/.cache/pip/wheels/0b/de/d2/9be5d59d7331c6c2a7c1b6d1a4f463ce107332b1ecd4e80718\n",
            "Successfully built pyspark\n",
            "Installing collected packages: py4j, pyspark\n",
            "Successfully installed py4j-0.10.9.2 pyspark-3.2.0\n"
          ]
        }
      ]
    },
    {
      "cell_type": "code",
      "metadata": {
        "colab": {
          "base_uri": "https://localhost:8080/"
        },
        "id": "sqaonGzE4lWL",
        "outputId": "f15b5c45-1dcf-40d3-aa19-c518c259b5cc"
      },
      "source": [
        "pip install fsspec"
      ],
      "execution_count": null,
      "outputs": [
        {
          "output_type": "stream",
          "name": "stdout",
          "text": [
            "Collecting fsspec\n",
            "  Downloading fsspec-2021.11.1-py3-none-any.whl (132 kB)\n",
            "\u001b[?25l\r\u001b[K     |██▌                             | 10 kB 23.9 MB/s eta 0:00:01\r\u001b[K     |█████                           | 20 kB 23.7 MB/s eta 0:00:01\r\u001b[K     |███████▍                        | 30 kB 28.5 MB/s eta 0:00:01\r\u001b[K     |█████████▉                      | 40 kB 32.1 MB/s eta 0:00:01\r\u001b[K     |████████████▎                   | 51 kB 26.2 MB/s eta 0:00:01\r\u001b[K     |██████████████▉                 | 61 kB 28.6 MB/s eta 0:00:01\r\u001b[K     |█████████████████▎              | 71 kB 21.3 MB/s eta 0:00:01\r\u001b[K     |███████████████████▊            | 81 kB 22.6 MB/s eta 0:00:01\r\u001b[K     |██████████████████████▏         | 92 kB 23.0 MB/s eta 0:00:01\r\u001b[K     |████████████████████████▋       | 102 kB 24.5 MB/s eta 0:00:01\r\u001b[K     |███████████████████████████     | 112 kB 24.5 MB/s eta 0:00:01\r\u001b[K     |█████████████████████████████▋  | 122 kB 24.5 MB/s eta 0:00:01\r\u001b[K     |████████████████████████████████| 132 kB 24.5 MB/s \n",
            "\u001b[?25hInstalling collected packages: fsspec\n",
            "Successfully installed fsspec-2021.11.1\n"
          ]
        }
      ]
    },
    {
      "cell_type": "code",
      "metadata": {
        "id": "LJT1MmSU4mcV",
        "colab": {
          "base_uri": "https://localhost:8080/"
        },
        "outputId": "15c93fd3-0850-4d81-a764-98521e9ff755"
      },
      "source": [
        "pip install gcsfs"
      ],
      "execution_count": null,
      "outputs": [
        {
          "output_type": "stream",
          "name": "stdout",
          "text": [
            "Collecting gcsfs\n",
            "  Downloading gcsfs-2021.11.1-py2.py3-none-any.whl (24 kB)\n",
            "Requirement already satisfied: fsspec==2021.11.1 in /usr/local/lib/python3.7/dist-packages (from gcsfs) (2021.11.1)\n",
            "Requirement already satisfied: google-auth>=1.2 in /usr/local/lib/python3.7/dist-packages (from gcsfs) (1.35.0)\n",
            "Collecting aiohttp<4\n",
            "  Downloading aiohttp-3.8.1-cp37-cp37m-manylinux_2_5_x86_64.manylinux1_x86_64.manylinux_2_12_x86_64.manylinux2010_x86_64.whl (1.1 MB)\n",
            "\u001b[K     |████████████████████████████████| 1.1 MB 34.9 MB/s \n",
            "\u001b[?25hRequirement already satisfied: google-auth-oauthlib in /usr/local/lib/python3.7/dist-packages (from gcsfs) (0.4.6)\n",
            "Requirement already satisfied: google-cloud-storage in /usr/local/lib/python3.7/dist-packages (from gcsfs) (1.18.1)\n",
            "Requirement already satisfied: requests in /usr/local/lib/python3.7/dist-packages (from gcsfs) (2.23.0)\n",
            "Requirement already satisfied: decorator>4.1.2 in /usr/local/lib/python3.7/dist-packages (from gcsfs) (4.4.2)\n",
            "Collecting multidict<7.0,>=4.5\n",
            "  Downloading multidict-5.2.0-cp37-cp37m-manylinux_2_5_x86_64.manylinux1_x86_64.manylinux_2_12_x86_64.manylinux2010_x86_64.whl (160 kB)\n",
            "\u001b[K     |████████████████████████████████| 160 kB 56.5 MB/s \n",
            "\u001b[?25hCollecting asynctest==0.13.0\n",
            "  Downloading asynctest-0.13.0-py3-none-any.whl (26 kB)\n",
            "Collecting aiosignal>=1.1.2\n",
            "  Downloading aiosignal-1.2.0-py3-none-any.whl (8.2 kB)\n",
            "Requirement already satisfied: attrs>=17.3.0 in /usr/local/lib/python3.7/dist-packages (from aiohttp<4->gcsfs) (21.2.0)\n",
            "Collecting yarl<2.0,>=1.0\n",
            "  Downloading yarl-1.7.2-cp37-cp37m-manylinux_2_5_x86_64.manylinux1_x86_64.manylinux_2_12_x86_64.manylinux2010_x86_64.whl (271 kB)\n",
            "\u001b[K     |████████████████████████████████| 271 kB 73.4 MB/s \n",
            "\u001b[?25hRequirement already satisfied: charset-normalizer<3.0,>=2.0 in /usr/local/lib/python3.7/dist-packages (from aiohttp<4->gcsfs) (2.0.8)\n",
            "Requirement already satisfied: typing-extensions>=3.7.4 in /usr/local/lib/python3.7/dist-packages (from aiohttp<4->gcsfs) (3.10.0.2)\n",
            "Collecting frozenlist>=1.1.1\n",
            "  Downloading frozenlist-1.2.0-cp37-cp37m-manylinux_2_5_x86_64.manylinux1_x86_64.manylinux_2_12_x86_64.manylinux2010_x86_64.whl (192 kB)\n",
            "\u001b[K     |████████████████████████████████| 192 kB 63.3 MB/s \n",
            "\u001b[?25hCollecting async-timeout<5.0,>=4.0.0a3\n",
            "  Downloading async_timeout-4.0.1-py3-none-any.whl (5.7 kB)\n",
            "Requirement already satisfied: six>=1.9.0 in /usr/local/lib/python3.7/dist-packages (from google-auth>=1.2->gcsfs) (1.15.0)\n",
            "Requirement already satisfied: rsa<5,>=3.1.4 in /usr/local/lib/python3.7/dist-packages (from google-auth>=1.2->gcsfs) (4.8)\n",
            "Requirement already satisfied: pyasn1-modules>=0.2.1 in /usr/local/lib/python3.7/dist-packages (from google-auth>=1.2->gcsfs) (0.2.8)\n",
            "Requirement already satisfied: cachetools<5.0,>=2.0.0 in /usr/local/lib/python3.7/dist-packages (from google-auth>=1.2->gcsfs) (4.2.4)\n",
            "Requirement already satisfied: setuptools>=40.3.0 in /usr/local/lib/python3.7/dist-packages (from google-auth>=1.2->gcsfs) (57.4.0)\n",
            "Requirement already satisfied: pyasn1<0.5.0,>=0.4.6 in /usr/local/lib/python3.7/dist-packages (from pyasn1-modules>=0.2.1->google-auth>=1.2->gcsfs) (0.4.8)\n",
            "Requirement already satisfied: idna>=2.0 in /usr/local/lib/python3.7/dist-packages (from yarl<2.0,>=1.0->aiohttp<4->gcsfs) (2.10)\n",
            "Requirement already satisfied: requests-oauthlib>=0.7.0 in /usr/local/lib/python3.7/dist-packages (from google-auth-oauthlib->gcsfs) (1.3.0)\n",
            "Requirement already satisfied: oauthlib>=3.0.0 in /usr/local/lib/python3.7/dist-packages (from requests-oauthlib>=0.7.0->google-auth-oauthlib->gcsfs) (3.1.1)\n",
            "Requirement already satisfied: urllib3!=1.25.0,!=1.25.1,<1.26,>=1.21.1 in /usr/local/lib/python3.7/dist-packages (from requests->gcsfs) (1.24.3)\n",
            "Requirement already satisfied: certifi>=2017.4.17 in /usr/local/lib/python3.7/dist-packages (from requests->gcsfs) (2021.10.8)\n",
            "Requirement already satisfied: chardet<4,>=3.0.2 in /usr/local/lib/python3.7/dist-packages (from requests->gcsfs) (3.0.4)\n",
            "Requirement already satisfied: google-resumable-media<0.5.0dev,>=0.3.1 in /usr/local/lib/python3.7/dist-packages (from google-cloud-storage->gcsfs) (0.4.1)\n",
            "Requirement already satisfied: google-cloud-core<2.0dev,>=1.0.0 in /usr/local/lib/python3.7/dist-packages (from google-cloud-storage->gcsfs) (1.0.3)\n",
            "Requirement already satisfied: google-api-core<2.0.0dev,>=1.14.0 in /usr/local/lib/python3.7/dist-packages (from google-cloud-core<2.0dev,>=1.0.0->google-cloud-storage->gcsfs) (1.26.3)\n",
            "Requirement already satisfied: pytz in /usr/local/lib/python3.7/dist-packages (from google-api-core<2.0.0dev,>=1.14.0->google-cloud-core<2.0dev,>=1.0.0->google-cloud-storage->gcsfs) (2018.9)\n",
            "Requirement already satisfied: packaging>=14.3 in /usr/local/lib/python3.7/dist-packages (from google-api-core<2.0.0dev,>=1.14.0->google-cloud-core<2.0dev,>=1.0.0->google-cloud-storage->gcsfs) (21.3)\n",
            "Requirement already satisfied: googleapis-common-protos<2.0dev,>=1.6.0 in /usr/local/lib/python3.7/dist-packages (from google-api-core<2.0.0dev,>=1.14.0->google-cloud-core<2.0dev,>=1.0.0->google-cloud-storage->gcsfs) (1.53.0)\n",
            "Requirement already satisfied: protobuf>=3.12.0 in /usr/local/lib/python3.7/dist-packages (from google-api-core<2.0.0dev,>=1.14.0->google-cloud-core<2.0dev,>=1.0.0->google-cloud-storage->gcsfs) (3.17.3)\n",
            "Requirement already satisfied: pyparsing!=3.0.5,>=2.0.2 in /usr/local/lib/python3.7/dist-packages (from packaging>=14.3->google-api-core<2.0.0dev,>=1.14.0->google-cloud-core<2.0dev,>=1.0.0->google-cloud-storage->gcsfs) (3.0.6)\n",
            "Installing collected packages: multidict, frozenlist, yarl, asynctest, async-timeout, aiosignal, aiohttp, gcsfs\n",
            "Successfully installed aiohttp-3.8.1 aiosignal-1.2.0 async-timeout-4.0.1 asynctest-0.13.0 frozenlist-1.2.0 gcsfs-2021.11.1 multidict-5.2.0 yarl-1.7.2\n"
          ]
        }
      ]
    },
    {
      "cell_type": "markdown",
      "metadata": {
        "id": "WwIL4zS9zbyL"
      },
      "source": [
        "###Importação das bibliotecas "
      ]
    },
    {
      "cell_type": "code",
      "metadata": {
        "id": "h8Uk4WnKzf-x"
      },
      "source": [
        "import pandas as pd\n",
        "import pyspark.sql.functions as F\n",
        "import os\n",
        "import io\n",
        "import gcsfs\n",
        "from google.cloud import storage\n",
        "from pyspark.sql.window import Window\n",
        "from pyspark.sql.types import *\n",
        "from pyspark.sql import SparkSession\n",
        "from io import BytesIO"
      ],
      "execution_count": null,
      "outputs": []
    },
    {
      "cell_type": "markdown",
      "metadata": {
        "id": "53rBa6OFt0Ma"
      },
      "source": [
        "###Configuração da SparkSession"
      ]
    },
    {
      "cell_type": "code",
      "metadata": {
        "id": "IiLh_DGYU8YF",
        "colab": {
          "base_uri": "https://localhost:8080/",
          "height": 222
        },
        "outputId": "89896fa9-3a66-4ebd-a3c9-8fd94f3a05d9"
      },
      "source": [
        "spark = (\n",
        "SparkSession.builder\\\n",
        "        .master(\"local\")\\\n",
        "        .appName(\"projeto_final_soul_code\")\\\n",
        "        .config(\"spark.ui.port\", \"4050\")\\\n",
        "        .getOrCreate()\n",
        ") \n",
        "spark    "
      ],
      "execution_count": null,
      "outputs": [
        {
          "output_type": "execute_result",
          "data": {
            "text/html": [
              "\n",
              "            <div>\n",
              "                <p><b>SparkSession - in-memory</b></p>\n",
              "                \n",
              "        <div>\n",
              "            <p><b>SparkContext</b></p>\n",
              "\n",
              "            <p><a href=\"http://010e5232c3f4:4050\">Spark UI</a></p>\n",
              "\n",
              "            <dl>\n",
              "              <dt>Version</dt>\n",
              "                <dd><code>v3.2.0</code></dd>\n",
              "              <dt>Master</dt>\n",
              "                <dd><code>local</code></dd>\n",
              "              <dt>AppName</dt>\n",
              "                <dd><code>projeto_final_soul_code</code></dd>\n",
              "            </dl>\n",
              "        </div>\n",
              "        \n",
              "            </div>\n",
              "        "
            ],
            "text/plain": [
              "<pyspark.sql.session.SparkSession at 0x7f13d18d5910>"
            ]
          },
          "metadata": {},
          "execution_count": 5
        }
      ]
    },
    {
      "cell_type": "markdown",
      "metadata": {
        "id": "GmnWx1xq5aMJ"
      },
      "source": [
        "###Extração do CSV no Cloud Storage e criação de um novo dataframe PySpark\n",
        "\n",
        "\n",
        "\n"
      ]
    },
    {
      "cell_type": "code",
      "metadata": {
        "id": "ZXuEfYFrkUs3"
      },
      "source": [
        "#Variáveis de ambiente\n",
        "json_key = '/content/drive/MyDrive/PROJETO-FINAL-GRUPO-04/NOTEBOOKS/APOIO/projetofinal-bc6-04-9731ef7087b5.json'\n",
        "bucket_name = 'projetofinal-bc6-04'\n",
        "file_name = '/Saída/escolas_2019_trat.csv'"
      ],
      "execution_count": null,
      "outputs": []
    },
    {
      "cell_type": "code",
      "metadata": {
        "id": "svFKTWyCHS5K"
      },
      "source": [
        "#Concedendo acesso para à Bucket a partir da chave Json\n",
        "os.environ['GOOGLE_APPLICATION_CREDENTIALS'] = json_key"
      ],
      "execution_count": null,
      "outputs": []
    },
    {
      "cell_type": "code",
      "metadata": {
        "id": "2sSn9-tr-Ldj"
      },
      "source": [
        "#Armazenamento do caminho para o CSV\n",
        "file_path = f'gs://{bucket_name}{file_name}'"
      ],
      "execution_count": null,
      "outputs": []
    },
    {
      "cell_type": "code",
      "metadata": {
        "id": "BH6lEHAR-ioI",
        "colab": {
          "base_uri": "https://localhost:8080/",
          "height": 342
        },
        "outputId": "0b45e4db-c8f9-468e-eafe-400af6a8f5ab"
      },
      "source": [
        "#Armazenamento do projeto GCP junto à chave de acesso JSON\n",
        "fs = gcsfs.GCSFileSystem(project=bucket_name, token=json_key) "
      ],
      "execution_count": null,
      "outputs": [
        {
          "output_type": "error",
          "ename": "FileNotFoundError",
          "evalue": "ignored",
          "traceback": [
            "\u001b[0;31m---------------------------------------------------------------------------\u001b[0m",
            "\u001b[0;31mFileNotFoundError\u001b[0m                         Traceback (most recent call last)",
            "\u001b[0;32m<ipython-input-9-d8ff55e0580a>\u001b[0m in \u001b[0;36m<module>\u001b[0;34m()\u001b[0m\n\u001b[1;32m      1\u001b[0m \u001b[0;31m#Armazenamento do projeto GCP junto à chave de acesso JSON\u001b[0m\u001b[0;34m\u001b[0m\u001b[0;34m\u001b[0m\u001b[0;34m\u001b[0m\u001b[0m\n\u001b[0;32m----> 2\u001b[0;31m \u001b[0mfs\u001b[0m \u001b[0;34m=\u001b[0m \u001b[0mgcsfs\u001b[0m\u001b[0;34m.\u001b[0m\u001b[0mGCSFileSystem\u001b[0m\u001b[0;34m(\u001b[0m\u001b[0mproject\u001b[0m\u001b[0;34m=\u001b[0m\u001b[0mbucket_name\u001b[0m\u001b[0;34m,\u001b[0m \u001b[0mtoken\u001b[0m\u001b[0;34m=\u001b[0m\u001b[0mjson_key\u001b[0m\u001b[0;34m)\u001b[0m\u001b[0;34m\u001b[0m\u001b[0;34m\u001b[0m\u001b[0m\n\u001b[0m",
            "\u001b[0;32m/usr/local/lib/python3.7/dist-packages/fsspec/spec.py\u001b[0m in \u001b[0;36m__call__\u001b[0;34m(cls, *args, **kwargs)\u001b[0m\n\u001b[1;32m     74\u001b[0m             \u001b[0;32mreturn\u001b[0m \u001b[0mcls\u001b[0m\u001b[0;34m.\u001b[0m\u001b[0m_cache\u001b[0m\u001b[0;34m[\u001b[0m\u001b[0mtoken\u001b[0m\u001b[0;34m]\u001b[0m\u001b[0;34m\u001b[0m\u001b[0;34m\u001b[0m\u001b[0m\n\u001b[1;32m     75\u001b[0m         \u001b[0;32melse\u001b[0m\u001b[0;34m:\u001b[0m\u001b[0;34m\u001b[0m\u001b[0;34m\u001b[0m\u001b[0m\n\u001b[0;32m---> 76\u001b[0;31m             \u001b[0mobj\u001b[0m \u001b[0;34m=\u001b[0m \u001b[0msuper\u001b[0m\u001b[0;34m(\u001b[0m\u001b[0;34m)\u001b[0m\u001b[0;34m.\u001b[0m\u001b[0m__call__\u001b[0m\u001b[0;34m(\u001b[0m\u001b[0;34m*\u001b[0m\u001b[0margs\u001b[0m\u001b[0;34m,\u001b[0m \u001b[0;34m**\u001b[0m\u001b[0mkwargs\u001b[0m\u001b[0;34m)\u001b[0m\u001b[0;34m\u001b[0m\u001b[0;34m\u001b[0m\u001b[0m\n\u001b[0m\u001b[1;32m     77\u001b[0m             \u001b[0;31m# Setting _fs_token here causes some static linters to complain.\u001b[0m\u001b[0;34m\u001b[0m\u001b[0;34m\u001b[0m\u001b[0;34m\u001b[0m\u001b[0m\n\u001b[1;32m     78\u001b[0m             \u001b[0mobj\u001b[0m\u001b[0;34m.\u001b[0m\u001b[0m_fs_token_\u001b[0m \u001b[0;34m=\u001b[0m \u001b[0mtoken\u001b[0m\u001b[0;34m\u001b[0m\u001b[0;34m\u001b[0m\u001b[0m\n",
            "\u001b[0;32m/usr/local/lib/python3.7/dist-packages/gcsfs/core.py\u001b[0m in \u001b[0;36m__init__\u001b[0;34m(self, project, access, token, block_size, consistency, cache_timeout, secure_serialize, check_connection, requests_timeout, requester_pays, asynchronous, session_kwargs, loop, timeout, endpoint_url, **kwargs)\u001b[0m\n\u001b[1;32m    272\u001b[0m         \u001b[0mself\u001b[0m\u001b[0;34m.\u001b[0m\u001b[0msession_kwargs\u001b[0m \u001b[0;34m=\u001b[0m \u001b[0msession_kwargs\u001b[0m \u001b[0;32mor\u001b[0m \u001b[0;34m{\u001b[0m\u001b[0;34m}\u001b[0m\u001b[0;34m\u001b[0m\u001b[0;34m\u001b[0m\u001b[0m\n\u001b[1;32m    273\u001b[0m \u001b[0;34m\u001b[0m\u001b[0m\n\u001b[0;32m--> 274\u001b[0;31m         \u001b[0mself\u001b[0m\u001b[0;34m.\u001b[0m\u001b[0mcredentials\u001b[0m \u001b[0;34m=\u001b[0m \u001b[0mGoogleCredentials\u001b[0m\u001b[0;34m(\u001b[0m\u001b[0mproject\u001b[0m\u001b[0;34m,\u001b[0m \u001b[0maccess\u001b[0m\u001b[0;34m,\u001b[0m \u001b[0mtoken\u001b[0m\u001b[0;34m,\u001b[0m \u001b[0mcheck_connection\u001b[0m\u001b[0;34m)\u001b[0m\u001b[0;34m\u001b[0m\u001b[0;34m\u001b[0m\u001b[0m\n\u001b[0m\u001b[1;32m    275\u001b[0m \u001b[0;34m\u001b[0m\u001b[0m\n\u001b[1;32m    276\u001b[0m         \u001b[0;32mif\u001b[0m \u001b[0;32mnot\u001b[0m \u001b[0mself\u001b[0m\u001b[0;34m.\u001b[0m\u001b[0masynchronous\u001b[0m\u001b[0;34m:\u001b[0m\u001b[0;34m\u001b[0m\u001b[0;34m\u001b[0m\u001b[0m\n",
            "\u001b[0;32m/usr/local/lib/python3.7/dist-packages/gcsfs/credentials.py\u001b[0m in \u001b[0;36m__init__\u001b[0;34m(self, project, access, token, check_credentials)\u001b[0m\n\u001b[1;32m     50\u001b[0m         \u001b[0mself\u001b[0m\u001b[0;34m.\u001b[0m\u001b[0mlock\u001b[0m \u001b[0;34m=\u001b[0m \u001b[0mthreading\u001b[0m\u001b[0;34m.\u001b[0m\u001b[0mLock\u001b[0m\u001b[0;34m(\u001b[0m\u001b[0;34m)\u001b[0m\u001b[0;34m\u001b[0m\u001b[0;34m\u001b[0m\u001b[0m\n\u001b[1;32m     51\u001b[0m         \u001b[0mself\u001b[0m\u001b[0;34m.\u001b[0m\u001b[0mtoken\u001b[0m \u001b[0;34m=\u001b[0m \u001b[0mtoken\u001b[0m\u001b[0;34m\u001b[0m\u001b[0;34m\u001b[0m\u001b[0m\n\u001b[0;32m---> 52\u001b[0;31m         \u001b[0mself\u001b[0m\u001b[0;34m.\u001b[0m\u001b[0mconnect\u001b[0m\u001b[0;34m(\u001b[0m\u001b[0mmethod\u001b[0m\u001b[0;34m=\u001b[0m\u001b[0mtoken\u001b[0m\u001b[0;34m)\u001b[0m\u001b[0;34m\u001b[0m\u001b[0;34m\u001b[0m\u001b[0m\n\u001b[0m\u001b[1;32m     53\u001b[0m \u001b[0;34m\u001b[0m\u001b[0m\n\u001b[1;32m     54\u001b[0m     \u001b[0;34m@\u001b[0m\u001b[0mclassmethod\u001b[0m\u001b[0;34m\u001b[0m\u001b[0;34m\u001b[0m\u001b[0m\n",
            "\u001b[0;32m/usr/local/lib/python3.7/dist-packages/gcsfs/credentials.py\u001b[0m in \u001b[0;36mconnect\u001b[0;34m(self, method)\u001b[0m\n\u001b[1;32m    208\u001b[0m             \u001b[0;32mNone\u001b[0m\u001b[0;34m,\u001b[0m\u001b[0;34m\u001b[0m\u001b[0;34m\u001b[0m\u001b[0m\n\u001b[1;32m    209\u001b[0m         ]:\n\u001b[0;32m--> 210\u001b[0;31m             \u001b[0mself\u001b[0m\u001b[0;34m.\u001b[0m\u001b[0m_connect_token\u001b[0m\u001b[0;34m(\u001b[0m\u001b[0mmethod\u001b[0m\u001b[0;34m)\u001b[0m\u001b[0;34m\u001b[0m\u001b[0;34m\u001b[0m\u001b[0m\n\u001b[0m\u001b[1;32m    211\u001b[0m         \u001b[0;32melif\u001b[0m \u001b[0mmethod\u001b[0m \u001b[0;32mis\u001b[0m \u001b[0;32mNone\u001b[0m\u001b[0;34m:\u001b[0m\u001b[0;34m\u001b[0m\u001b[0;34m\u001b[0m\u001b[0m\n\u001b[1;32m    212\u001b[0m             \u001b[0;32mfor\u001b[0m \u001b[0mmeth\u001b[0m \u001b[0;32min\u001b[0m \u001b[0;34m[\u001b[0m\u001b[0;34m\"google_default\"\u001b[0m\u001b[0;34m,\u001b[0m \u001b[0;34m\"cache\"\u001b[0m\u001b[0;34m,\u001b[0m \u001b[0;34m\"cloud\"\u001b[0m\u001b[0;34m,\u001b[0m \u001b[0;34m\"anon\"\u001b[0m\u001b[0;34m]\u001b[0m\u001b[0;34m:\u001b[0m\u001b[0;34m\u001b[0m\u001b[0;34m\u001b[0m\u001b[0m\n",
            "\u001b[0;32m/usr/local/lib/python3.7/dist-packages/gcsfs/credentials.py\u001b[0m in \u001b[0;36m_connect_token\u001b[0;34m(self, token)\u001b[0m\n\u001b[1;32m    131\u001b[0m         \u001b[0;32mif\u001b[0m \u001b[0misinstance\u001b[0m\u001b[0;34m(\u001b[0m\u001b[0mtoken\u001b[0m\u001b[0;34m,\u001b[0m \u001b[0mstr\u001b[0m\u001b[0;34m)\u001b[0m\u001b[0;34m:\u001b[0m\u001b[0;34m\u001b[0m\u001b[0;34m\u001b[0m\u001b[0m\n\u001b[1;32m    132\u001b[0m             \u001b[0;32mif\u001b[0m \u001b[0;32mnot\u001b[0m \u001b[0mos\u001b[0m\u001b[0;34m.\u001b[0m\u001b[0mpath\u001b[0m\u001b[0;34m.\u001b[0m\u001b[0mexists\u001b[0m\u001b[0;34m(\u001b[0m\u001b[0mtoken\u001b[0m\u001b[0;34m)\u001b[0m\u001b[0;34m:\u001b[0m\u001b[0;34m\u001b[0m\u001b[0;34m\u001b[0m\u001b[0m\n\u001b[0;32m--> 133\u001b[0;31m                 \u001b[0;32mraise\u001b[0m \u001b[0mFileNotFoundError\u001b[0m\u001b[0;34m(\u001b[0m\u001b[0mtoken\u001b[0m\u001b[0;34m)\u001b[0m\u001b[0;34m\u001b[0m\u001b[0;34m\u001b[0m\u001b[0m\n\u001b[0m\u001b[1;32m    134\u001b[0m             \u001b[0;32mtry\u001b[0m\u001b[0;34m:\u001b[0m\u001b[0;34m\u001b[0m\u001b[0;34m\u001b[0m\u001b[0m\n\u001b[1;32m    135\u001b[0m                 \u001b[0;31m# is this a \"service\" token?\u001b[0m\u001b[0;34m\u001b[0m\u001b[0;34m\u001b[0m\u001b[0;34m\u001b[0m\u001b[0m\n",
            "\u001b[0;31mFileNotFoundError\u001b[0m: /content/projetofinal-bc6-04-9731ef7087b5.json"
          ]
        }
      ]
    },
    {
      "cell_type": "code",
      "metadata": {
        "id": "YTz2SJxY-lyh"
      },
      "source": [
        "#Abrindo o caminho do armazenamento e leitura do CSV com o Pandas\n",
        "with fs.open(file_path): data = pd.read_csv(file_path, sep=',', encoding='UTF-8', header=0)"
      ],
      "execution_count": null,
      "outputs": []
    },
    {
      "cell_type": "code",
      "metadata": {
        "id": "IPIKwhYA-sGU"
      },
      "source": [
        "#Criação de um novo dataframe em PySpark a partir do dataframe criado com o Pandas\n",
        "df1 = spark.createDataFrame(data)\n",
        "df1.show()"
      ],
      "execution_count": null,
      "outputs": []
    },
    {
      "cell_type": "code",
      "metadata": {
        "id": "wpDg7u4BVe3h"
      },
      "source": [
        "df1.printSchema()"
      ],
      "execution_count": null,
      "outputs": []
    },
    {
      "cell_type": "code",
      "metadata": {
        "id": "gxI296J2Eap0"
      },
      "source": [
        "#Convertendo os tipos de dados das novas colunas, para um tipo coerente\n",
        "df1 = (df1.select(F.col('ID_ESCOLA').cast('int'),\n",
        "                  F.col('SITUACAO_FUNCIONAMENTO').cast('int'),\n",
        "                  F.col('ID_REGIAO').cast('int'),\n",
        "                  F.col('ID_UF').cast('int'),\n",
        "                  F.col('DEPENDENCIA_ADM').cast('int'),\n",
        "                  F.col('LOCALIZACAO').cast('int'),\n",
        "                  F.col('LOCALIZACAO_DIFERENCIADA').cast('int'),\n",
        "                  F.col('AGUA_POTAVEL').cast('int'),\n",
        "                  F.col('ENERGIA_REDE_PUBLICA').cast('int'),\n",
        "                  F.col('ENERGIA_RENOVAVEL').cast('int'),\n",
        "                  F.col('ENERGIA_INEXISTENTE').cast('int'),\n",
        "                  F.col('ESGOTO_REDE_PUBLICA').cast('int'),\n",
        "                  F.col('ESGOTO_INEXISTENTE').cast('int'),\n",
        "                  F.col('LIXO_SERVICO_COLETA').cast('int'),\n",
        "                  F.col('LABORATORIO_CIENCIAS').cast('int'),\n",
        "                  F.col('LABORATORIO_INFORMATICA').cast('int'),\n",
        "                  F.col('ACESSIBILIDADE_INEXISTENTE').cast('int'),\n",
        "                  F.col('INTERNET_APRENDIZAGEM').cast('int'),\n",
        "                  F.col('BANDA_LARGA').cast('int')\n",
        "                  )\n",
        ")\n",
        "df1.printSchema()"
      ],
      "execution_count": null,
      "outputs": []
    },
    {
      "cell_type": "code",
      "metadata": {
        "id": "J4V2Mfh8M7Lx"
      },
      "source": [
        "#Criação de lista da região Nordeste = 2 e Sudeste = 3\n",
        "lista_regiao = [2, 3]\n",
        "\n",
        "#Criação de um dataframe usando os filtrando de região\n",
        "df_sud_nord = df1.filter(F.col('ID_REGIAO').isin(lista_regiao))\n",
        "\n",
        "df_sud_nord.show(10)"
      ],
      "execution_count": null,
      "outputs": []
    },
    {
      "cell_type": "code",
      "metadata": {
        "id": "zXPWGlCSkP9r"
      },
      "source": [
        "df_sud_nord.printSchema()"
      ],
      "execution_count": null,
      "outputs": []
    },
    {
      "cell_type": "code",
      "metadata": {
        "id": "V5bONfOXIcMb"
      },
      "source": [
        "#Criação de um dataframe da Região Nordeste == 2, UFs e situação de funcionamento apenas das escolas funcionando == 1\n",
        "df_situacao = df_sud_nord.select(F.col(\"ID_REGIAO\"), F.col(\"ID_UF\"), F.col(\"SITUACAO_FUNCIONAMENTO\"))\\\n",
        "                 .filter(F.col(\"ID_REGIAO\").isin(lista_regiao))\\\n",
        "                 .filter(F.col(\"SITUACAO_FUNCIONAMENTO\") == 1)"
      ],
      "execution_count": null,
      "outputs": []
    },
    {
      "cell_type": "code",
      "metadata": {
        "id": "77ESR4JJVsPC"
      },
      "source": [
        "#Criação de um dataframe das escolas em funcionamento por região.\n",
        "df_sit_sum = df_situacao.groupBy(F.col(\"ID_REGIAO\")).sum(\"SITUACAO_FUNCIONAMENTO\")"
      ],
      "execution_count": null,
      "outputs": []
    },
    {
      "cell_type": "code",
      "metadata": {
        "id": "3-VvllRuccTf"
      },
      "source": [
        "#Criação de um dataframe dos estados que possuem AGUA_POTAVEL, ENERGIA_REDE_PUBLICA, ESGOTO_REDE_PUBLICA nas escolas\n",
        "df_acesso = (df_sud_nord.groupBy(F.col(\"ID_UF\")).agg(\n",
        "              F.sum(F.col(\"AGUA_POTAVEL\")).alias(\"Soma_agua_potavel\"),\n",
        "              F.sum(F.col(\"ENERGIA_REDE_PUBLICA\")).alias(\"Soma_energia\"),\n",
        "              F.sum(F.col(\"ESGOTO_REDE_PUBLICA\")).alias(\"Soma_esgoto\")\n",
        ")).orderBy(F.col(\"ID_UF\"))"
      ],
      "execution_count": null,
      "outputs": []
    },
    {
      "cell_type": "code",
      "metadata": {
        "id": "7Ad1hsQMgtLu"
      },
      "source": [
        "df_acesso.show()"
      ],
      "execution_count": null,
      "outputs": []
    },
    {
      "cell_type": "code",
      "metadata": {
        "id": "dv-QK7lIOOsn"
      },
      "source": [
        "#Criação de um dataframe com uma nova coluna chamada COLETA_LIXO com a seguinte informação: Caso a escola tenha serviço de coleta de lixo, colocar o texto “Coleta de lixo”. Caso contrário, colocar o texto: “Não possui coleta de lixo”\n",
        "df_coleta = (df_sud_nord.withColumn(\"COLETA_LIXO\", F.when(F.col(\"LIXO_SERVICO_COLETA\") == 1, \"Coleta de lixo\") \n",
        "                            .otherwise(\"Não possui coleta de lixo\"))\n",
        ")\n",
        "\n",
        "df_coleta.select(F.col(\"ID_REGIAO\"), F.col(\"ID_UF\"), F.col(\"COLETA_LIXO\")).show(20)"
      ],
      "execution_count": null,
      "outputs": []
    },
    {
      "cell_type": "code",
      "metadata": {
        "id": "69qia2cBS-iR"
      },
      "source": [
        "#Criação de um dataframe com o ranking dos estados por localização \n",
        "df_ranking_localizacao = df_sud_nord.groupBy(F.col('ID_UF')).agg(\n",
        "    F.sum(F.col(\"LOCALIZACAO\")).alias(\"LOCALIZACAO\")\n",
        ")\n",
        "\n",
        "w1 = Window.orderBy(F.col(\"LOCALIZACAO\").desc())\n",
        "\n",
        "df_ranking_localizacao = (df_ranking_localizacao.select(F.col(\"ID_UF\"), F.col(\"LOCALIZACAO\"))\n",
        "    .withColumn(\"RANKING\", F.row_number()\n",
        "    .over(w1)))\n",
        "\n",
        "df_ranking_localizacao.show(10)"
      ],
      "execution_count": null,
      "outputs": []
    },
    {
      "cell_type": "code",
      "metadata": {
        "id": "ztFas0W9r5Qp"
      },
      "source": [
        "#Exibição do número de escolas por dependência administrativa: 1 - Federal, 2 - Estadual, 3 - Municipal, 4 - Privada\n",
        "df_sud_nord.groupBy(F.col(\"DEPENDENCIA_ADM\")).count().show()"
      ],
      "execution_count": null,
      "outputs": []
    },
    {
      "cell_type": "markdown",
      "metadata": {
        "id": "6Fdd7DybYdqk"
      },
      "source": [
        "###Carregamento para o bucket - UPLOAD"
      ]
    },
    {
      "cell_type": "code",
      "metadata": {
        "id": "cyGKgrFXiJXW"
      },
      "source": [
        "data2 = df_sud_nord.toPandas()"
      ],
      "execution_count": null,
      "outputs": []
    },
    {
      "cell_type": "code",
      "metadata": {
        "id": "2GfYlOLMXsUj"
      },
      "source": [
        "file_save = 'Saída/escolas_2019_sud_nord'\n",
        "data2.to_csv(f'gs://{bucket_name}/{file_save}.csv', index=False)"
      ],
      "execution_count": null,
      "outputs": []
    },
    {
      "cell_type": "markdown",
      "metadata": {
        "id": "tClthdL5t3Sj"
      },
      "source": [
        "#SPARKSQL\n",
        "\n",
        "----"
      ]
    },
    {
      "cell_type": "code",
      "metadata": {
        "id": "wJRWrEk-MTsQ"
      },
      "source": [
        "#Criação de uma visão temporária local \n",
        "df_sud_nord.createOrReplaceTempView(\"tabela_escolas_2019\")"
      ],
      "execution_count": null,
      "outputs": []
    },
    {
      "cell_type": "code",
      "metadata": {
        "id": "--XE8uoMMto1"
      },
      "source": [
        "#1ª consulta tem a função de retornar todos os dados da tabela_escolas_2019\n",
        "spark.sql(\"SELECT * FROM tabela_escolas_2019\").show(10)"
      ],
      "execution_count": null,
      "outputs": []
    },
    {
      "cell_type": "code",
      "metadata": {
        "id": "jbZrZLNNNFjp"
      },
      "source": [
        "#2.1ª consulta tem a função de mostrar o número de escolas da tabela_escolas_2019 agrupados por região Sudeste = 3 e Nordeste = 2\n",
        "spark.sql(\"SELECT ID_REGIAO, COUNT(ID_REGIAO) AS Qtd_ESCOLAS FROM tabela_escolas_2019 GROUP BY ID_REGIAO\").show()"
      ],
      "execution_count": null,
      "outputs": []
    },
    {
      "cell_type": "code",
      "metadata": {
        "id": "G2AL0_OpWEGT"
      },
      "source": [
        "#2.2ª consulta tem a função de mostrar o número de escolas da tabela_escolas_2019 agrupados pelos estados da região Nordeste\n",
        "spark.sql(\"SELECT ID_UF, COUNT(ID_UF) AS Qtd_ESCOLAS FROM tabela_escolas_2019 GROUP BY ID_UF ORDER BY ID_UF\").show()"
      ],
      "execution_count": null,
      "outputs": []
    },
    {
      "cell_type": "code",
      "metadata": {
        "id": "LsTY4Th1YtnT"
      },
      "source": [
        "#3.1ª Consulta tem a função de mostrar a quantidade de localização diferenciada das escolas na região Nordeste  da tabela_escolas_2019 agrupado pela localização diferenciada: \n",
        "spark.sql(\"SELECT LOCALIZACAO_DIFERENCIADA, COUNT(ID_REGIAO) AS Qtd_REGIAO_NORDESTE FROM tabela_escolas_2019 WHERE ID_REGIAO = 2 GROUP BY LOCALIZACAO_DIFERENCIADA\").show()"
      ],
      "execution_count": null,
      "outputs": []
    },
    {
      "cell_type": "code",
      "metadata": {
        "id": "yeKMAheW9M2d"
      },
      "source": [
        "#3.2ª Consulta tem a função de mostrar a quantidade de localização diferenciada das escolas na região Sudeste  da tabela_escolas_2019 agrupado pela localização diferenciada: \n",
        "spark.sql(\"SELECT LOCALIZACAO_DIFERENCIADA, COUNT(ID_REGIAO) AS Qtd_REGIAO_SUDESTE FROM tabela_escolas_2019 WHERE ID_REGIAO = 3 GROUP BY LOCALIZACAO_DIFERENCIADA\").show()"
      ],
      "execution_count": null,
      "outputs": []
    },
    {
      "cell_type": "code",
      "metadata": {
        "id": "JgV1RlAp92IO"
      },
      "source": [
        "#4.1ª Consulta tem a função de mostrar a quantidade de escolas por dependência administrativa da tabela_escolas_2019 agrupado pela região Nordeste\n",
        "spark.sql(\"SELECT DEPENDENCIA_ADM, COUNT(ID_REGIAO) AS Qtd_REGIAO_NORDESTE FROM tabela_escolas_2019 WHERE ID_REGIAO = 2 GROUP BY DEPENDENCIA_ADM\").show()"
      ],
      "execution_count": null,
      "outputs": []
    },
    {
      "cell_type": "code",
      "metadata": {
        "id": "afcc_qpK-c1F"
      },
      "source": [
        "#4.2ª Consulta tem a função de mostrar a quantidade de escolas por dependência administrativa da tabela_escolas_2019 agrupado pela região Sudeste\n",
        "spark.sql(\"SELECT DEPENDENCIA_ADM, COUNT(ID_REGIAO) AS Qtd_REGIAO_SUDESTE FROM tabela_escolas_2019 WHERE ID_REGIAO = 3 GROUP BY DEPENDENCIA_ADM\").show()"
      ],
      "execution_count": null,
      "outputs": []
    },
    {
      "cell_type": "code",
      "metadata": {
        "id": "4JtGDMKjtOa3"
      },
      "source": [
        "#5.1ª Consulta tem a função de mostrar a quantidade de escolas localizadas na região Nordeste da tabela_escolas_2019 agrupado pela localização\n",
        "spark.sql(\"SELECT LOCALIZACAO, COUNT(ID_REGIAO) AS Qtd_REGIAO_Nordeste FROM tabela_escolas_2019 WHERE ID_REGIAO = 2 GROUP BY LOCALIZACAO\").show()"
      ],
      "execution_count": null,
      "outputs": []
    },
    {
      "cell_type": "code",
      "metadata": {
        "id": "JGREH2sJstK6"
      },
      "source": [
        "#5.2ª Consulta tem a função de mostrar a quantidade de escolas localizadas na região Sudeste da tabela_escolas_2019 agrupado pela localização\n",
        "spark.sql(\"SELECT LOCALIZACAO, COUNT(ID_REGIAO) AS Qtd_REGIAO_SUDESTE FROM tabela_escolas_2019 WHERE ID_REGIAO = 3 GROUP BY LOCALIZACAO\").show()"
      ],
      "execution_count": null,
      "outputs": []
    },
    {
      "cell_type": "code",
      "metadata": {
        "id": "pIW42CKxpmK6"
      },
      "source": [
        "#5.3ª Consulta tem a função de mostrar a quantidade de escolas localizadas na zona rural  da tabela_escolas_2019 agrupado pelos estados do Nordeste e Sudeste\n",
        "spark.sql(\"SELECT ID_UF, COUNT(LOCALIZACAO) AS Qtd_LOCALIZACAO_RURAL FROM tabela_escolas_2019 WHERE LOCALIZACAO = 2 GROUP BY ID_UF\").show()"
      ],
      "execution_count": null,
      "outputs": []
    },
    {
      "cell_type": "code",
      "metadata": {
        "id": "BRcv4MF9efhy"
      },
      "source": [
        "#5.4ª Consulta tem a função de mostrar a quantidade de escolas localizadas na zona urbana da tabela_escolas_2019 agrupado pelos estados do Nordeste e Sudeste\n",
        "spark.sql(\"SELECT ID_UF, COUNT(LOCALIZACAO) AS Qtd_LOCALIZACAO_URBANA FROM tabela_escolas_2019 WHERE LOCALIZACAO = 1 GROUP BY ID_UF\").show()"
      ],
      "execution_count": null,
      "outputs": []
    },
    {
      "cell_type": "code",
      "metadata": {
        "id": "jHU0qbK9vjFB"
      },
      "source": [
        "#6.1ª Consulta tem a função de mostrar a quantidade de escolas que possuem laboratório de ciências e laboratório de informática da tabela_escolas_2019 agrupado pelas região Nordeste e Sudeste\n",
        "spark.sql(\"SELECT ID_REGIAO, SUM(LABORATORIO_CIENCIAS) AS Qtd_LABORATORIO_CIENCIAS, SUM(LABORATORIO_INFORMATICA) AS Qtd_LABORATORIO_INFORMATICA FROM tabela_escolas_2019 WHERE LABORATORIO_INFORMATICA = 1 OR LABORATORIO_CIENCIAS = 1 GROUP BY ID_REGIAO ORDER BY ID_REGIAO\").show()"
      ],
      "execution_count": null,
      "outputs": []
    },
    {
      "cell_type": "code",
      "metadata": {
        "id": "H0wBowOFLGOU"
      },
      "source": [
        "#6.2ª Consulta tem a função de mostrar a quantidade de escolas que possuem laboratório de ciências e laboratório de informática da tabela_escolas_2019 agrupado pelos estados do Nordeste e Sudeste\n",
        "spark.sql(\"SELECT ID_UF, SUM(LABORATORIO_CIENCIAS) AS Qtd_LABORATORIO_CIENCIAS, SUM(LABORATORIO_INFORMATICA) AS Qtd_LABORATORIO_INFORMATICA FROM tabela_escolas_2019 WHERE LABORATORIO_INFORMATICA = 1 OR LABORATORIO_CIENCIAS = 1 GROUP BY ID_UF ORDER BY ID_UF\").show()"
      ],
      "execution_count": null,
      "outputs": []
    },
    {
      "cell_type": "code",
      "metadata": {
        "id": "FmVga72qMgC2"
      },
      "source": [
        "#7ª Consulta tem a função de mostrar a quantidade de escolas que possuem laboratório de ciências e laboratório de informática da tabela_escolas_2019 agrupado pelos estados do Nordeste e Sudeste\n",
        "spark.sql(\"SELECT ID_UF, SUM(INTERNET_APRENDIZAGEM) AS Qtd_INTERNET_APRENDIZAGEM, SUM(LABORATORIO_INFORMATICA) AS Qtd_LABORATORIO_INFORMATICA FROM tabela_escolas_2019 WHERE INTERNET_APRENDIZAGEM = 1 OR LABORATORIO_INFORMATICA =1 GROUP BY ID_UF ORDER BY ID_UF\").show()"
      ],
      "execution_count": null,
      "outputs": []
    },
    {
      "cell_type": "code",
      "metadata": {
        "id": "Zb-MB_caeZob"
      },
      "source": [
        "#8ª Consulta tem a função de mostrar a quantidade de escolas que possuem energia elétrica da rede pública, energia renovável e energia inexistente da tabela_escolas_2019 agrupado pelos estados do Nordeste e Sudeste\n",
        "spark.sql(\"SELECT ID_UF, SUM(ENERGIA_REDE_PUBLICA) AS Qtd_ENERGIA_REDE_PUBLICA, SUM(ENERGIA_RENOVAVEL) AS Qtd_ENERGIA_RENOVAVEL, SUM(ENERGIA_INEXISTENTE) AS Qtd_ENERGIA_INEXISTENTE FROM tabela_escolas_2019 WHERE ENERGIA_REDE_PUBLICA = 1 OR ENERGIA_RENOVAVEL = 1 OR ENERGIA_INEXISTENTE = 1 GROUP BY ID_UF ORDER BY ID_UF\").show()"
      ],
      "execution_count": null,
      "outputs": []
    },
    {
      "cell_type": "code",
      "metadata": {
        "id": "0eRbxhqehBOh"
      },
      "source": [
        "#9ª Consulta tem a função de mostrar a falta de acessibilidade que não possuem nenhum tipo de acessibilidade como elevadores, corrimão, sinalização tátil e etc da tabela_escolas_2019 agrupado pelos estados do Nordeste e Sudeste\n",
        "spark.sql(\"SELECT ID_UF, SUM(ACESSIBILIDADE_INEXISTENTE) AS Qtd_ACESSIBILIDADE_INEXISTENTE FROM tabela_escolas_2019 WHERE ACESSIBILIDADE_INEXISTENTE = 1  GROUP BY ID_UF ORDER BY ID_UF\").show()"
      ],
      "execution_count": null,
      "outputs": []
    },
    {
      "cell_type": "markdown",
      "metadata": {
        "id": "f88I5fjF5Px_"
      },
      "source": [
        "*INSIGHTS*\n",
        "\n",
        "\n",
        "> A região Nordeste possui o maior número de escolas;\n",
        "\n",
        "> Os estados da região Nordeste que possuem o maior número de escolas são: Maranhão e Bahia;\n",
        "\n",
        "> Os estados da região Sudeste que possuem o maior número de escolas são: Minas Gerais e São Paulos;\n",
        "\n",
        "> O maior número de escolas da região Nordeste estão localizadas na zona rural, com destaque para  estados de Bahia e Maranhão;\n",
        "\n",
        "> O maior número de escolas da região Sudeste estão localizadas na zona urbana, com destaque para  estados de São Paulo e Minas Gerais;\n",
        "\n",
        "> Na região Nordeste somente 2168 escolas estão localizadas em Assentamento, 1732 em Terra Indígena e 667 em Comunidades de Remanescentes Quilombolas.   \n",
        "\n",
        "> Na região Sudeste somente 181 escolas estão localizadas em Assentamento, 292 em Terra Indígena e 73 em Comunidades de Remanescentes Quilombolas.\n",
        "\n",
        "> O maior número de laboratórios de ciências e informática estão localizados na região Sudeste, com destaque para o estado de São Paulo. Já Sergipe é o estado com o menor número de laboratórios de ciências e informática.\n",
        "\n",
        "> Quanto a correlação entre os indicadores Internet aprendizagem e Laboratórios de informática: São Paulo possui um maior número de escolas com internet aprendizagem do que com laboratórios de informática e o estado do Maranhão possui mais laboratórios de informática do que acesso a Internet.\n",
        "\n",
        "> O estado de São Paulo possui o maior número de escolas com energia elétrica, o segundo estado com o maior número de escolas com energia renovável e também é um estado que não possui escolas sem energia elétrica;\n",
        "\n",
        "> O estado da Bahia possui o maior número de escolas com energia elétrica e com energia renovável, mas também é o estado com o maior número de escolas sem energia elétrica;\n",
        "\n",
        "\n",
        "> Os estados da Bahia e São Paulo possuem o maior número de escolas com falta de acessibilidade.\n",
        "\n",
        "\n",
        "\n",
        "\n",
        "\n",
        "\n",
        "\n",
        "\n",
        "\n",
        "\n",
        "\n",
        "\n",
        "\n",
        "\n",
        "\n",
        "\n",
        "\n",
        "\n",
        "\n",
        "\n",
        "\n",
        "\n"
      ]
    }
  ]
}